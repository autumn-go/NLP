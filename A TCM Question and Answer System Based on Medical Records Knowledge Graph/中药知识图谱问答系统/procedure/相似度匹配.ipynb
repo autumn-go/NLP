{
 "cells": [
  {
   "cell_type": "code",
   "execution_count": 1,
   "metadata": {},
   "outputs": [
    {
     "name": "stderr",
     "output_type": "stream",
     "text": [
      "Building prefix dict from /opt/anaconda3/lib/python3.7/site-packages/synonyms/data/vocab.txt ...\n"
     ]
    },
    {
     "name": "stdout",
     "output_type": "stream",
     "text": [
      ">> Synonyms load wordseg dict [/opt/anaconda3/lib/python3.7/site-packages/synonyms/data/vocab.txt] ... \n"
     ]
    },
    {
     "name": "stderr",
     "output_type": "stream",
     "text": [
      "Dumping model to file cache /var/folders/3k/kgg4qj194zq75qc_b9fhgvhw0000gn/T/jieba.ue91cd0cf690d4df68c724529c6a89ac5.cache\n",
      "Loading model cost 1.906 seconds.\n",
      "Prefix dict has been built succesfully.\n"
     ]
    },
    {
     "name": "stdout",
     "output_type": "stream",
     "text": [
      ">> Synonyms on loading stopwords [/opt/anaconda3/lib/python3.7/site-packages/synonyms/data/stopwords.txt] ...\n",
      ">> Synonyms on loading vectors [/opt/anaconda3/lib/python3.7/site-packages/synonyms/data/words.vector] ...\n"
     ]
    },
    {
     "name": "stderr",
     "output_type": "stream",
     "text": [
      "/opt/anaconda3/lib/python3.7/site-packages/smart_open/smart_open_lib.py:402: UserWarning: This function is deprecated, use smart_open.open instead. See the migration notes for details: https://github.com/RaRe-Technologies/smart_open/blob/master/README.rst#migrating-to-the-new-open-function\n",
      "  'See the migration notes for details: %s' % _MIGRATION_NOTES_URL\n"
     ]
    }
   ],
   "source": [
    "import synonyms"
   ]
  },
  {
   "cell_type": "code",
   "execution_count": 2,
   "metadata": {},
   "outputs": [
    {
     "data": {
      "text/plain": [
       "(['中文', '近义词', '工具包'], ['nz', 'n', 'n'])"
      ]
     },
     "execution_count": 2,
     "metadata": {},
     "output_type": "execute_result"
    }
   ],
   "source": [
    "synonyms.seg(\"中文近义词工具包\")"
   ]
  },
  {
   "cell_type": "code",
   "execution_count": 6,
   "metadata": {},
   "outputs": [
    {
     "data": {
      "text/plain": [
       "0.943"
      ]
     },
     "execution_count": 6,
     "metadata": {},
     "output_type": "execute_result"
    }
   ],
   "source": [
    "sen1=\"感冒的症状\"\n",
    "sen2=\"感冒的状况\"\n",
    "synonyms.compare(sen1, sen2, seg=True)"
   ]
  },
  {
   "cell_type": "code",
   "execution_count": 7,
   "metadata": {},
   "outputs": [
    {
     "name": "stdout",
     "output_type": "stream",
     "text": [
      "'治疗'近义词：\n",
      "  1. 治疗:1.0\n",
      "  2. 化疗:0.78422385\n",
      "  3. 疗法:0.76789993\n",
      "  4. 治疗法:0.7301204\n",
      "  5. 病人:0.7287922\n",
      "  6. 病患:0.7247689\n",
      "  7. 用药:0.71273446\n",
      "  8. 疗程:0.7014434\n",
      "  9. 放射治疗:0.687543\n",
      "  10. 外科手术:0.68457556\n"
     ]
    }
   ],
   "source": [
    "synonyms.display(\"治疗\")"
   ]
  },
  {
   "cell_type": "code",
   "execution_count": null,
   "metadata": {},
   "outputs": [],
   "source": []
  }
 ],
 "metadata": {
  "kernelspec": {
   "display_name": "Python 3",
   "language": "python",
   "name": "python3"
  },
  "language_info": {
   "codemirror_mode": {
    "name": "ipython",
    "version": 3
   },
   "file_extension": ".py",
   "mimetype": "text/x-python",
   "name": "python",
   "nbconvert_exporter": "python",
   "pygments_lexer": "ipython3",
   "version": "3.7.4"
  }
 },
 "nbformat": 4,
 "nbformat_minor": 2
}
